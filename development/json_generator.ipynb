{
 "cells": [
  {
   "cell_type": "code",
   "execution_count": 9,
   "metadata": {},
   "outputs": [],
   "source": [
    "import json\n",
    "from easydict import EasyDict as edict\n",
    "import pprint\n",
    "import datetime\n"
   ]
  },
  {
   "cell_type": "code",
   "execution_count": 1,
   "metadata": {
    "scrolled": true
   },
   "outputs": [],
   "source": [
    "album = \"lotr\"\n",
    "title_of_image = \"Frodo\"\n",
    "description = \"Hobbit\"\n",
    "url = \"images/werner/lotr/74bffb8ab937853bce9eabd2033456f4bf478ad2-b17c-434b-bb76-1a82aa4a2f46.jpg\"\n",
    "thumb_url = \"images/werner/lotr/74bffb8ab937853bce9eabd2033456f442022bb6-b8e3-40e5-82c4-161557fdc73c_thumbnail_.jpg\""
   ]
  },
  {
   "cell_type": "code",
   "execution_count": 3,
   "metadata": {},
   "outputs": [],
   "source": []
  },
  {
   "cell_type": "code",
   "execution_count": 4,
   "metadata": {},
   "outputs": [
    {
     "name": "stdout",
     "output_type": "stream",
     "text": [
      "OX.CoPE\n"
     ]
    }
   ],
   "source": []
  },
  {
   "cell_type": "code",
   "execution_count": 2,
   "metadata": {},
   "outputs": [
    {
     "ename": "FileNotFoundError",
     "evalue": "[Errno 2] No such file or directory: 'nodes.json'",
     "output_type": "error",
     "traceback": [
      "\u001b[0;31m---------------------------------------------------------------------------\u001b[0m",
      "\u001b[0;31mFileNotFoundError\u001b[0m                         Traceback (most recent call last)",
      "\u001b[0;32m<ipython-input-2-6465273c94f7>\u001b[0m in \u001b[0;36m<module>\u001b[0;34m\u001b[0m\n\u001b[0;32m----> 1\u001b[0;31m \u001b[0;32mwith\u001b[0m \u001b[0mopen\u001b[0m\u001b[0;34m(\u001b[0m\u001b[0;34m'nodes.json'\u001b[0m\u001b[0;34m,\u001b[0m \u001b[0;34m'r'\u001b[0m\u001b[0;34m)\u001b[0m \u001b[0;32mas\u001b[0m \u001b[0mmyfile\u001b[0m\u001b[0;34m:\u001b[0m\u001b[0;34m\u001b[0m\u001b[0;34m\u001b[0m\u001b[0m\n\u001b[0m\u001b[1;32m      2\u001b[0m     \u001b[0mdata\u001b[0m\u001b[0;34m=\u001b[0m\u001b[0mmyfile\u001b[0m\u001b[0;34m.\u001b[0m\u001b[0mread\u001b[0m\u001b[0;34m(\u001b[0m\u001b[0;34m)\u001b[0m\u001b[0;34m\u001b[0m\u001b[0;34m\u001b[0m\u001b[0m\n\u001b[1;32m      3\u001b[0m \u001b[0mnodes_json_loaded\u001b[0m \u001b[0;34m=\u001b[0m \u001b[0mjson\u001b[0m\u001b[0;34m.\u001b[0m\u001b[0mloads\u001b[0m\u001b[0;34m(\u001b[0m\u001b[0mdata\u001b[0m\u001b[0;34m)\u001b[0m\u001b[0;34m\u001b[0m\u001b[0;34m\u001b[0m\u001b[0m\n\u001b[1;32m      4\u001b[0m \u001b[0mmyfile\u001b[0m\u001b[0;34m.\u001b[0m\u001b[0mclose\u001b[0m\u001b[0;34m(\u001b[0m\u001b[0;34m)\u001b[0m\u001b[0;34m\u001b[0m\u001b[0;34m\u001b[0m\u001b[0m\n",
      "\u001b[0;31mFileNotFoundError\u001b[0m: [Errno 2] No such file or directory: 'nodes.json'"
     ]
    }
   ],
   "source": [
    "with open('nodes.json', 'r') as myfile:\n",
    "    data=myfile.read()\n",
    "nodes_json_loaded = json.loads(data)\n",
    "myfile.close()"
   ]
  },
  {
   "cell_type": "code",
   "execution_count": 29,
   "metadata": {},
   "outputs": [],
   "source": [
    "def generate_gallery_json(album,title_of_image,description,url,thumb_url,file_path):\n",
    "    \"\"\"\n",
    "    Generates gallery.json that the dashboard requires \n",
    "    to display images.\n",
    "    \"\"\"\n",
    "    now = datetime.datetime.now()\n",
    "    date_time = now.strftime(\"%m/%d/%Y, %H:%M:%S\")\n",
    "    gallery_file_json_output_album = {}\n",
    "    gallery_file_json_output_photos = {}\n",
    "\n",
    "    gallery_file_json_output_file = open(file_path, \"w\")\n",
    "    gallery_file_json_output_file.write(\"\")\n",
    "    gallery_file_json_output_file.close()\n",
    "    \n",
    "    gallery_file_json_output_file = open(file_path, \"w\")\n",
    "    gallery_file_json_output_file.write(\"{\\n\\\"album\\\":\")\n",
    "    gallery_file_json_output_file.close()\n",
    "    \n",
    "    gallery_file_json_output_file = open(file_path, \"a\")\n",
    "    gallery_file_json_output_album[\"name\"] = album\n",
    "    json.dump(gallery_file_json_output_album, gallery_file_json_output_file, indent=4, sort_keys=True)\n",
    "    gallery_file_json_output_file.close()\n",
    "    \n",
    "    gallery_file_json_output_file = open(file_path, \"a\")\n",
    "    gallery_file_json_output_file.write(\",\\n\\\"photos\\\": [\\n\")\n",
    "    gallery_file_json_output_file.close()\n",
    "    \n",
    "    gallery_file_json_output_file=open(file_path, \"a\")\n",
    "    gallery_file_json_output_photos['id'] = \"1\"\n",
    "    gallery_file_json_output_photos['url'] = url\n",
    "    gallery_file_json_output_photos['thumb_url'] = thumb_url\n",
    "    gallery_file_json_output_photos['title'] = title_of_image\n",
    "    gallery_file_json_output_photos['date'] = date_time\n",
    "    gallery_file_json_output_photos['description'] = description\n",
    "    json.dump(gallery_file_json_output_photos, gallery_file_json_output_file, indent=4, sort_keys=True)\n",
    "    gallery_file_json_output_file.close()\n",
    "    \n",
    "    gallery_file_json_output_file = open(file_path, \"a\")\n",
    "    #Completes JSON\n",
    "    gallery_file_json_output_file.write(\"\\n]\\n}\")\n",
    "    gallery_file_json_output_file.close()    \n"
   ]
  },
  {
   "cell_type": "code",
   "execution_count": 30,
   "metadata": {},
   "outputs": [],
   "source": [
    "generate_gallery_json(album,title_of_image,description,url,thumb_url,\"gallery.json\")"
   ]
  },
  {
   "cell_type": "code",
   "execution_count": 12,
   "metadata": {},
   "outputs": [],
   "source": [
    "\"\"\"\n",
    "Generates node_json_output.json that the dashboard requires \n",
    "to generate the knowledge graph visualization using vis.js.\n",
    "\"\"\"\n",
    "def generate_visjs_KG_json(nodes_json_file_path,nodes_json_loaded_file_path):\n",
    "    \n",
    "    #Load data from node.json\n",
    "    with open(nodes_json_file_path, 'r') as myfile:\n",
    "        data=myfile.read()\n",
    "        nodes_json_loaded = json.loads(data)\n",
    "    myfile.close()\n",
    "    #Cosmetic variables Nodes\n",
    "    scaling_factor = 2\n",
    "    min_size = 6\n",
    "    #\"#009BCE\" \"#0019CE\"\n",
    "    node_colour_engine = \"#0019CE\"\n",
    "    node_colour_url = \"#0019CE\"\n",
    "    node_colour_user = \"#0019CE\"\n",
    "\n",
    "    #Cosmetic variables Relationships\n",
    "    rel_colour_engine = \"#009BCE\"\n",
    "    rel_colour_url = \"#009BCE\"\n",
    "    rel_colour_user = \"#009BCE\"\n",
    "\n",
    "    rel_colour_engine_highlighted = \"#a3dfff\"\n",
    "    rel_colour_url_highlighted = \"#a3dfff\"\n",
    "    rel_colour_user_highlighted = \"#a3dfff\"\n",
    "\n",
    "    #Operational variables\n",
    "    node_unique_id = 1\n",
    "    node_json_output = {}\n",
    "\n",
    "    #Clears out node_json_output.json of content\n",
    "    node_json_output_file = open(nodes_json_loaded_file_path, \"w\")\n",
    "    node_json_output_file.write(\"\")\n",
    "    node_json_output_file.close()\n",
    "\n",
    "    #Opens file and starts of JSON\n",
    "    node_json_output_file = open(nodes_json_loaded_file_path, \"a\")\n",
    "    node_json_output_file.write(\"{\\n\\\"nodes\\\": [\\n\")\n",
    "    node_json_output_file.close()\n",
    "\n",
    "    for node_collection in nodes_json_loaded:\n",
    "        #Populates engine node JSON\n",
    "        node_json_output_file = open(nodes_json_loaded_file_path, \"a\")\n",
    "        node_json_output['id'] = (node_unique_id)\n",
    "        node_json_output['shape'] =  \"circularImage\"\n",
    "        node_json_output['image'] =  \"https://github.com/WernerWildenboer/hostimages/blob/master/Images/gear_cropped_3.png?raw=True\"\n",
    "        node_json_output['label'] =  node_collection['engine']\n",
    "        node_json_output['size'] =  30\n",
    "        node_json_output['title'] =  node_collection['engine']\n",
    "        node_json_output['color'] =  node_colour_engine\n",
    "        json.dump(node_json_output, node_json_output_file, indent=4, sort_keys=True)\n",
    "        node_json_output_file.write(\"\\n,\")\n",
    "\n",
    "        node_unique_id += 1\n",
    "        #Populates url node JSON\n",
    "        node_json_output['id'] = (node_unique_id)\n",
    "        node_json_output['shape'] =  \"circularImage\"\n",
    "        node_json_output['image'] =  \"https://github.com/WernerWildenboer/hostimages/blob/master/Images/link_cropped.png?raw=True\"\n",
    "        node_json_output['label'] =  node_collection['url']['url_name']\n",
    "        node_json_output['size'] =  check_size(min_size,node_collection['url']['total_hits'])*scaling_factor\n",
    "        node_json_output['title'] =  node_collection['url']['url_name']\n",
    "\n",
    "        #Checks if a url is anomalous and changes colour to red if true\n",
    "        if node_collection['url']['anomalous'] == 0:\n",
    "            node_json_output['color'] =  node_colour_url\n",
    "        elif node_collection['url']['anomalous'] == 1:\n",
    "            node_json_output['color'] =  \"#F6110D\"\n",
    "        json.dump(node_json_output, node_json_output_file,indent=4, sort_keys=True)\n",
    "        node_json_output_file.write(\"\\n,\")\n",
    "\n",
    "\n",
    "        node_unique_id += 1\n",
    "        for unique_user in node_collection['users']:\n",
    "            #Populates user node JSON\n",
    "            node_json_output['id'] = (node_unique_id)\n",
    "            node_json_output['shape'] =  \"circularImage\"\n",
    "            node_json_output['image'] =  \"https://github.com/WernerWildenboer/hostimages/blob/master/Images/settings_cropped.png?raw=True\"\n",
    "            label_string = \"Title : %s \\nTotal Hits : %s\" % (unique_user['user_name'],int(unique_user['hits']))\n",
    "            node_json_output['label'] =  label_string \n",
    "            node_json_output['size'] =  check_size(min_size,unique_user['hits'])*scaling_factor\n",
    "            node_json_output['title'] =  unique_user['user_name']\n",
    "            node_json_output['color'] =  node_colour_user\n",
    "            node_unique_id += 1\n",
    "            json.dump(node_json_output, node_json_output_file, indent=4, sort_keys=True)\n",
    "            #Checks if last element in dict to ensure a extra unnecessary \",\" is not added\n",
    "            if node_collection == nodes_json_loaded[-1]:\n",
    "                node_json_output_file.write(\"\\n\")\n",
    "            else:  \n",
    "                node_json_output_file.write(\"\\n,\")\n",
    "\n",
    "        node_json_output_file.close()\n",
    "    node_json_output_file_end = open(nodes_json_loaded_file_path, \"a\")\n",
    "    node_json_output_file_end.write(\"\\n],\")\n",
    "    node_json_output_file.close()\n",
    "\n",
    "    rel_unique_id = 1\n",
    "    rel_json_output = {}\n",
    "\n",
    "    node_json_output_file = open(nodes_json_loaded_file_path, \"a\")\n",
    "    node_json_output_file.write(\"\\\"edges\\\": [\\n\")\n",
    "\n",
    "    for rel_collection in nodes_json_loaded:\n",
    "         #Populates engine/url relationship JSON\n",
    "        node_json_output_file = open(nodes_json_loaded_file_path, \"a\")\n",
    "        rel_json_output['from'] =rel_unique_id\n",
    "        rel_unique_id  += 1\n",
    "        rel_json_output['to'] = rel_unique_id\n",
    "        rel_json_output['width'] = 2\n",
    "        rel_json_output['label'] = \"\"\n",
    "        enriched_json_color = edict({'color':rel_colour_engine, 'highlight':rel_colour_engine_highlighted})\n",
    "        rel_json_output['color'] = enriched_json_color\n",
    "        enriched_json_arrows = edict({'to':{'scaleFactor':'0.5', 'type':\"circle\"}})\n",
    "        rel_json_output['arrows'] = enriched_json_arrows\n",
    "        json.dump(rel_json_output, node_json_output_file, indent=4)\n",
    "        node_json_output_file.write(\",\\n\")\n",
    "\n",
    "        user_counter = rel_unique_id \n",
    "        for unique_user in rel_collection['users']:\n",
    "            #Populates user relationship JSON\n",
    "            user_counter +=1\n",
    "            rel_json_output['from'] = user_counter\n",
    "            rel_json_output['to'] = (rel_unique_id)\n",
    "            rel_json_output['width'] = 2\n",
    "            rel_json_output['label'] = \"\"\n",
    "            enriched_json_color = edict({'color': rel_colour_user , 'highlight':rel_colour_user_highlighted})\n",
    "            rel_json_output['color'] = enriched_json_color\n",
    "            enriched_json_arrows = edict({'to':{'scaleFactor':'0.5', 'type':\"circle\"}})\n",
    "            rel_json_output['arrows'] = enriched_json_arrows\n",
    "\n",
    "            json.dump(rel_json_output, node_json_output_file)\n",
    "            #Checks if last element in dict to ensure a extra unnecessary \",\" is not added\n",
    "            if rel_collection == nodes_json_loaded[-1]:\n",
    "                node_json_output_file.write(\"\\n\")\n",
    "            else:  \n",
    "                node_json_output_file.write(\",\\n\")\n",
    "\n",
    "\n",
    "        node_json_output_file.close()\n",
    "        rel_unique_id  = user_counter +1\n",
    "\n",
    "    node_json_output_file = open(nodes_json_loaded_file_path, \"a\")\n",
    "    #Completes JSON\n",
    "    node_json_output_file.write(\"\\n]\\n}\")\n",
    "    node_json_output_file.close()    \n"
   ]
  },
  {
   "cell_type": "code",
   "execution_count": 174,
   "metadata": {},
   "outputs": [
    {
     "ename": "JSONDecodeError",
     "evalue": "Expecting value: line 818 column 1 (char 24740)",
     "output_type": "error",
     "traceback": [
      "\u001b[0;31m---------------------------------------------------------------------------\u001b[0m",
      "\u001b[0;31mJSONDecodeError\u001b[0m                           Traceback (most recent call last)",
      "\u001b[0;32m<ipython-input-174-f71a1ef1e814>\u001b[0m in \u001b[0;36m<module>\u001b[0;34m\u001b[0m\n\u001b[1;32m      1\u001b[0m \u001b[0;32mwith\u001b[0m \u001b[0mopen\u001b[0m\u001b[0;34m(\u001b[0m\u001b[0;34m'node_json_output.json'\u001b[0m\u001b[0;34m,\u001b[0m \u001b[0;34m'r'\u001b[0m\u001b[0;34m)\u001b[0m \u001b[0;32mas\u001b[0m \u001b[0mloaded_file\u001b[0m\u001b[0;34m:\u001b[0m\u001b[0;34m\u001b[0m\u001b[0;34m\u001b[0m\u001b[0m\n\u001b[1;32m      2\u001b[0m     \u001b[0mdata_reloaded\u001b[0m \u001b[0;34m=\u001b[0m \u001b[0mloaded_file\u001b[0m\u001b[0;34m.\u001b[0m\u001b[0mread\u001b[0m\u001b[0;34m(\u001b[0m\u001b[0;34m)\u001b[0m\u001b[0;34m\u001b[0m\u001b[0;34m\u001b[0m\u001b[0m\n\u001b[0;32m----> 3\u001b[0;31m \u001b[0mnodes_json_reloaded\u001b[0m \u001b[0;34m=\u001b[0m \u001b[0mjson\u001b[0m\u001b[0;34m.\u001b[0m\u001b[0mloads\u001b[0m\u001b[0;34m(\u001b[0m\u001b[0mdata_reloaded\u001b[0m\u001b[0;34m)\u001b[0m\u001b[0;34m\u001b[0m\u001b[0;34m\u001b[0m\u001b[0m\n\u001b[0m\u001b[1;32m      4\u001b[0m \u001b[0mnodes_json_reloaded\u001b[0m\u001b[0;34m\u001b[0m\u001b[0;34m\u001b[0m\u001b[0m\n",
      "\u001b[0;32m/usr/lib/python3.7/json/__init__.py\u001b[0m in \u001b[0;36mloads\u001b[0;34m(s, encoding, cls, object_hook, parse_float, parse_int, parse_constant, object_pairs_hook, **kw)\u001b[0m\n\u001b[1;32m    346\u001b[0m             \u001b[0mparse_int\u001b[0m \u001b[0;32mis\u001b[0m \u001b[0;32mNone\u001b[0m \u001b[0;32mand\u001b[0m \u001b[0mparse_float\u001b[0m \u001b[0;32mis\u001b[0m \u001b[0;32mNone\u001b[0m \u001b[0;32mand\u001b[0m\u001b[0;34m\u001b[0m\u001b[0;34m\u001b[0m\u001b[0m\n\u001b[1;32m    347\u001b[0m             parse_constant is None and object_pairs_hook is None and not kw):\n\u001b[0;32m--> 348\u001b[0;31m         \u001b[0;32mreturn\u001b[0m \u001b[0m_default_decoder\u001b[0m\u001b[0;34m.\u001b[0m\u001b[0mdecode\u001b[0m\u001b[0;34m(\u001b[0m\u001b[0ms\u001b[0m\u001b[0;34m)\u001b[0m\u001b[0;34m\u001b[0m\u001b[0;34m\u001b[0m\u001b[0m\n\u001b[0m\u001b[1;32m    349\u001b[0m     \u001b[0;32mif\u001b[0m \u001b[0mcls\u001b[0m \u001b[0;32mis\u001b[0m \u001b[0;32mNone\u001b[0m\u001b[0;34m:\u001b[0m\u001b[0;34m\u001b[0m\u001b[0;34m\u001b[0m\u001b[0m\n\u001b[1;32m    350\u001b[0m         \u001b[0mcls\u001b[0m \u001b[0;34m=\u001b[0m \u001b[0mJSONDecoder\u001b[0m\u001b[0;34m\u001b[0m\u001b[0;34m\u001b[0m\u001b[0m\n",
      "\u001b[0;32m/usr/lib/python3.7/json/decoder.py\u001b[0m in \u001b[0;36mdecode\u001b[0;34m(self, s, _w)\u001b[0m\n\u001b[1;32m    335\u001b[0m \u001b[0;34m\u001b[0m\u001b[0m\n\u001b[1;32m    336\u001b[0m         \"\"\"\n\u001b[0;32m--> 337\u001b[0;31m         \u001b[0mobj\u001b[0m\u001b[0;34m,\u001b[0m \u001b[0mend\u001b[0m \u001b[0;34m=\u001b[0m \u001b[0mself\u001b[0m\u001b[0;34m.\u001b[0m\u001b[0mraw_decode\u001b[0m\u001b[0;34m(\u001b[0m\u001b[0ms\u001b[0m\u001b[0;34m,\u001b[0m \u001b[0midx\u001b[0m\u001b[0;34m=\u001b[0m\u001b[0m_w\u001b[0m\u001b[0;34m(\u001b[0m\u001b[0ms\u001b[0m\u001b[0;34m,\u001b[0m \u001b[0;36m0\u001b[0m\u001b[0;34m)\u001b[0m\u001b[0;34m.\u001b[0m\u001b[0mend\u001b[0m\u001b[0;34m(\u001b[0m\u001b[0;34m)\u001b[0m\u001b[0;34m)\u001b[0m\u001b[0;34m\u001b[0m\u001b[0;34m\u001b[0m\u001b[0m\n\u001b[0m\u001b[1;32m    338\u001b[0m         \u001b[0mend\u001b[0m \u001b[0;34m=\u001b[0m \u001b[0m_w\u001b[0m\u001b[0;34m(\u001b[0m\u001b[0ms\u001b[0m\u001b[0;34m,\u001b[0m \u001b[0mend\u001b[0m\u001b[0;34m)\u001b[0m\u001b[0;34m.\u001b[0m\u001b[0mend\u001b[0m\u001b[0;34m(\u001b[0m\u001b[0;34m)\u001b[0m\u001b[0;34m\u001b[0m\u001b[0;34m\u001b[0m\u001b[0m\n\u001b[1;32m    339\u001b[0m         \u001b[0;32mif\u001b[0m \u001b[0mend\u001b[0m \u001b[0;34m!=\u001b[0m \u001b[0mlen\u001b[0m\u001b[0;34m(\u001b[0m\u001b[0ms\u001b[0m\u001b[0;34m)\u001b[0m\u001b[0;34m:\u001b[0m\u001b[0;34m\u001b[0m\u001b[0;34m\u001b[0m\u001b[0m\n",
      "\u001b[0;32m/usr/lib/python3.7/json/decoder.py\u001b[0m in \u001b[0;36mraw_decode\u001b[0;34m(self, s, idx)\u001b[0m\n\u001b[1;32m    353\u001b[0m             \u001b[0mobj\u001b[0m\u001b[0;34m,\u001b[0m \u001b[0mend\u001b[0m \u001b[0;34m=\u001b[0m \u001b[0mself\u001b[0m\u001b[0;34m.\u001b[0m\u001b[0mscan_once\u001b[0m\u001b[0;34m(\u001b[0m\u001b[0ms\u001b[0m\u001b[0;34m,\u001b[0m \u001b[0midx\u001b[0m\u001b[0;34m)\u001b[0m\u001b[0;34m\u001b[0m\u001b[0;34m\u001b[0m\u001b[0m\n\u001b[1;32m    354\u001b[0m         \u001b[0;32mexcept\u001b[0m \u001b[0mStopIteration\u001b[0m \u001b[0;32mas\u001b[0m \u001b[0merr\u001b[0m\u001b[0;34m:\u001b[0m\u001b[0;34m\u001b[0m\u001b[0;34m\u001b[0m\u001b[0m\n\u001b[0;32m--> 355\u001b[0;31m             \u001b[0;32mraise\u001b[0m \u001b[0mJSONDecodeError\u001b[0m\u001b[0;34m(\u001b[0m\u001b[0;34m\"Expecting value\"\u001b[0m\u001b[0;34m,\u001b[0m \u001b[0ms\u001b[0m\u001b[0;34m,\u001b[0m \u001b[0merr\u001b[0m\u001b[0;34m.\u001b[0m\u001b[0mvalue\u001b[0m\u001b[0;34m)\u001b[0m \u001b[0;32mfrom\u001b[0m \u001b[0;32mNone\u001b[0m\u001b[0;34m\u001b[0m\u001b[0;34m\u001b[0m\u001b[0m\n\u001b[0m\u001b[1;32m    356\u001b[0m         \u001b[0;32mreturn\u001b[0m \u001b[0mobj\u001b[0m\u001b[0;34m,\u001b[0m \u001b[0mend\u001b[0m\u001b[0;34m\u001b[0m\u001b[0;34m\u001b[0m\u001b[0m\n",
      "\u001b[0;31mJSONDecodeError\u001b[0m: Expecting value: line 818 column 1 (char 24740)"
     ]
    }
   ],
   "source": [
    "with open('node_json_output.json', 'r') as loaded_file:\n",
    "    data_reloaded = loaded_file.read()\n",
    "nodes_json_reloaded = json.loads(data_reloaded)\n",
    "nodes_json_reloaded"
   ]
  },
  {
   "cell_type": "code",
   "execution_count": null,
   "metadata": {},
   "outputs": [],
   "source": []
  },
  {
   "cell_type": "code",
   "execution_count": 9,
   "metadata": {},
   "outputs": [],
   "source": [
    "\"\"\"\n",
    "Checks the size of a node and determines \n",
    "if it is smaller, larger or equal to the \n",
    "minimum value specified and adjusts it \n",
    "accordingly.\n",
    "\n",
    "- node_size > minimum_size : does nothing\n",
    "- node_size = minimum_size : does nothing \n",
    "- node_size < minimum _size : changes node_size to minimum _size\n",
    "\"\"\"\n",
    "def check_size(min_size,size_input):\n",
    "    #Convets size_input to int  \n",
    "    int_size_input = int(size_input)\n",
    "    #Checks if int_size_input is smaller or \n",
    "    #equal to min_size \n",
    "    if int_size_input <= min_size:\n",
    "        return min_size\n",
    "    else:\n",
    "        return int_size_input"
   ]
  },
  {
   "cell_type": "code",
   "execution_count": 14,
   "metadata": {},
   "outputs": [
    {
     "data": {
      "text/plain": [
       "15"
      ]
     },
     "execution_count": 14,
     "metadata": {},
     "output_type": "execute_result"
    }
   ],
   "source": [
    "check_size(11,15)"
   ]
  },
  {
   "cell_type": "code",
   "execution_count": 13,
   "metadata": {},
   "outputs": [],
   "source": [
    "nodes_json_file_path = \"nodes.json\"\n",
    "nodes_json_loaded_file_path = \"node_json_output.json\"\n",
    "generate_visjs_KG_json(nodes_json_file_path,nodes_json_loaded_file_path)"
   ]
  }
 ],
 "metadata": {
  "kernelspec": {
   "display_name": "Python 3",
   "language": "python",
   "name": "python3"
  },
  "language_info": {
   "codemirror_mode": {
    "name": "ipython",
    "version": 3
   },
   "file_extension": ".py",
   "mimetype": "text/x-python",
   "name": "python",
   "nbconvert_exporter": "python",
   "pygments_lexer": "ipython3",
   "version": "3.7.3"
  }
 },
 "nbformat": 4,
 "nbformat_minor": 2
}
