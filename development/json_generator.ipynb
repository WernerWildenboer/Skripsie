{
 "cells": [
  {
   "cell_type": "code",
   "execution_count": 29,
   "metadata": {},
   "outputs": [],
   "source": [
    "import json\n",
    "from easydict import EasyDict as edict\n",
    "import pprint\n",
    "import datetime\n",
    "from py2neo import Graph, Node, NodeMatcher, Relationship\n",
    "import pandas as pd\n",
    "import numpy as np"
   ]
  },
  {
   "cell_type": "code",
   "execution_count": 2,
   "metadata": {
    "scrolled": true
   },
   "outputs": [],
   "source": [
    "album = \"lotr\"\n",
    "title_of_image = \"Frodo\"\n",
    "description = \"Hobbit\"\n",
    "url = \"images/werner/lotr/74bffb8ab937853bce9eabd2033456f4bf478ad2-b17c-434b-bb76-1a82aa4a2f46.jpg\"\n",
    "thumb_url = \"images/werner/lotr/74bffb8ab937853bce9eabd2033456f442022bb6-b8e3-40e5-82c4-161557fdc73c_thumbnail_.jpg\""
   ]
  },
  {
   "cell_type": "code",
   "execution_count": null,
   "metadata": {},
   "outputs": [],
   "source": []
  },
  {
   "cell_type": "code",
   "execution_count": null,
   "metadata": {},
   "outputs": [],
   "source": []
  },
  {
   "cell_type": "code",
   "execution_count": 3,
   "metadata": {},
   "outputs": [
    {
     "ename": "FileNotFoundError",
     "evalue": "[Errno 2] No such file or directory: 'nodes.json'",
     "output_type": "error",
     "traceback": [
      "\u001b[0;31m---------------------------------------------------------------------------\u001b[0m",
      "\u001b[0;31mFileNotFoundError\u001b[0m                         Traceback (most recent call last)",
      "\u001b[0;32m<ipython-input-3-6465273c94f7>\u001b[0m in \u001b[0;36m<module>\u001b[0;34m\u001b[0m\n\u001b[0;32m----> 1\u001b[0;31m \u001b[0;32mwith\u001b[0m \u001b[0mopen\u001b[0m\u001b[0;34m(\u001b[0m\u001b[0;34m'nodes.json'\u001b[0m\u001b[0;34m,\u001b[0m \u001b[0;34m'r'\u001b[0m\u001b[0;34m)\u001b[0m \u001b[0;32mas\u001b[0m \u001b[0mmyfile\u001b[0m\u001b[0;34m:\u001b[0m\u001b[0;34m\u001b[0m\u001b[0;34m\u001b[0m\u001b[0m\n\u001b[0m\u001b[1;32m      2\u001b[0m     \u001b[0mdata\u001b[0m\u001b[0;34m=\u001b[0m\u001b[0mmyfile\u001b[0m\u001b[0;34m.\u001b[0m\u001b[0mread\u001b[0m\u001b[0;34m(\u001b[0m\u001b[0;34m)\u001b[0m\u001b[0;34m\u001b[0m\u001b[0;34m\u001b[0m\u001b[0m\n\u001b[1;32m      3\u001b[0m \u001b[0mnodes_json_loaded\u001b[0m \u001b[0;34m=\u001b[0m \u001b[0mjson\u001b[0m\u001b[0;34m.\u001b[0m\u001b[0mloads\u001b[0m\u001b[0;34m(\u001b[0m\u001b[0mdata\u001b[0m\u001b[0;34m)\u001b[0m\u001b[0;34m\u001b[0m\u001b[0;34m\u001b[0m\u001b[0m\n\u001b[1;32m      4\u001b[0m \u001b[0mmyfile\u001b[0m\u001b[0;34m.\u001b[0m\u001b[0mclose\u001b[0m\u001b[0;34m(\u001b[0m\u001b[0;34m)\u001b[0m\u001b[0;34m\u001b[0m\u001b[0;34m\u001b[0m\u001b[0m\n",
      "\u001b[0;31mFileNotFoundError\u001b[0m: [Errno 2] No such file or directory: 'nodes.json'"
     ]
    }
   ],
   "source": [
    "with open('nodes.json', 'r') as myfile:\n",
    "    data=myfile.read()\n",
    "nodes_json_loaded = json.loads(data)\n",
    "myfile.close()"
   ]
  },
  {
   "cell_type": "code",
   "execution_count": 9,
   "metadata": {},
   "outputs": [],
   "source": [
    "NEO4J_BOLT ='bolt://localhost:11005'\n",
    "NEO4J_USERNAME = 'neo4j'\n",
    "NEO4J_PASSWORD = 'skripsie'\n",
    "GRAPH_INIT = Graph(NEO4J_BOLT, auth=(NEO4J_USERNAME, NEO4J_PASSWORD))\n"
   ]
  },
  {
   "cell_type": "code",
   "execution_count": null,
   "metadata": {},
   "outputs": [],
   "source": []
  },
  {
   "cell_type": "code",
   "execution_count": 31,
   "metadata": {},
   "outputs": [
    {
     "data": {
      "text/html": [
       "<div>\n",
       "<style scoped>\n",
       "    .dataframe tbody tr th:only-of-type {\n",
       "        vertical-align: middle;\n",
       "    }\n",
       "\n",
       "    .dataframe tbody tr th {\n",
       "        vertical-align: top;\n",
       "    }\n",
       "\n",
       "    .dataframe thead th {\n",
       "        text-align: right;\n",
       "    }\n",
       "</style>\n",
       "<table border=\"1\" class=\"dataframe\">\n",
       "  <thead>\n",
       "    <tr style=\"text-align: right;\">\n",
       "      <th></th>\n",
       "      <th>description</th>\n",
       "      <th>thumb_url</th>\n",
       "      <th>title</th>\n",
       "      <th>url</th>\n",
       "    </tr>\n",
       "  </thead>\n",
       "  <tbody>\n",
       "    <tr>\n",
       "      <th>0</th>\n",
       "      <td>test</td>\n",
       "      <td>images/werner/test/1_test__thumbnail_Screensho...</td>\n",
       "      <td>Screenshotfrom2019-08-0318-34-3628122648-8af9-...</td>\n",
       "      <td>images/werner/test/1_test_Screenshot_from_2019...</td>\n",
       "    </tr>\n",
       "    <tr>\n",
       "      <th>1</th>\n",
       "      <td>test</td>\n",
       "      <td>images/werner/test/2_test__thumbnail_Screensho...</td>\n",
       "      <td>Screenshotfrom2019-08-0318-34-33224a83b6-109b-...</td>\n",
       "      <td>images/werner/test/2_test_Screenshot_from_2019...</td>\n",
       "    </tr>\n",
       "    <tr>\n",
       "      <th>2</th>\n",
       "      <td>test</td>\n",
       "      <td>images/werner/test/3_test__thumbnail_wood66f1b...</td>\n",
       "      <td>wood0b3a6328-d0ef-4b21-b72c-cf7692fc6e02.png</td>\n",
       "      <td>images/werner/test/3_test_wood0b3a6328-d0ef-4b...</td>\n",
       "    </tr>\n",
       "  </tbody>\n",
       "</table>\n",
       "</div>"
      ],
      "text/plain": [
       "  description                                          thumb_url  \\\n",
       "0        test  images/werner/test/1_test__thumbnail_Screensho...   \n",
       "1        test  images/werner/test/2_test__thumbnail_Screensho...   \n",
       "2        test  images/werner/test/3_test__thumbnail_wood66f1b...   \n",
       "\n",
       "                                               title  \\\n",
       "0  Screenshotfrom2019-08-0318-34-3628122648-8af9-...   \n",
       "1  Screenshotfrom2019-08-0318-34-33224a83b6-109b-...   \n",
       "2       wood0b3a6328-d0ef-4b21-b72c-cf7692fc6e02.png   \n",
       "\n",
       "                                                 url  \n",
       "0  images/werner/test/1_test_Screenshot_from_2019...  \n",
       "1  images/werner/test/2_test_Screenshot_from_2019...  \n",
       "2  images/werner/test/3_test_wood0b3a6328-d0ef-4b...  "
      ]
     },
     "execution_count": 31,
     "metadata": {},
     "output_type": "execute_result"
    }
   ],
   "source": [
    "get_album_image_properties(\"test\")"
   ]
  },
  {
   "cell_type": "code",
   "execution_count": null,
   "metadata": {},
   "outputs": [],
   "source": [
    "\n"
   ]
  },
  {
   "cell_type": "code",
   "execution_count": 65,
   "metadata": {},
   "outputs": [],
   "source": [
    "def generate_gallery_json(album):\n",
    "    \"\"\"\n",
    "    Generates gallery.json that the dashboard requires \n",
    "    to display images.\n",
    "    Returns json of album image.\n",
    "    \"\"\"\n",
    "    gallery_file_json_output_album={}\n",
    "    gallery_file_json_output_album[\"name\"] = album\n",
    "    gallery_file_json_output_photos = generate_list_images(album)\n",
    "    merged ={}\n",
    "    merged[\"album\"] = gallery_file_json_output_album\n",
    "    merged[\"photos\"] = gallery_file_json_output_photos\n",
    "\n",
    "    with open(\"gallery.json\",\"w\") as f:\n",
    "        json.dump(merged,f,indent=4)\n",
    "\n",
    "\n",
    "    return json.dumps(merged)\n",
    "    \n",
    "\n"
   ]
  },
  {
   "cell_type": "code",
   "execution_count": null,
   "metadata": {},
   "outputs": [],
   "source": []
  },
  {
   "cell_type": "code",
   "execution_count": 66,
   "metadata": {},
   "outputs": [],
   "source": [
    "def generate_list_images(album):\n",
    "    \"\"\"\n",
    "    Generates gallery.json that the dashboard requires \n",
    "    to display images.\n",
    "    \"\"\"\n",
    "    i=0\n",
    "    listofImages = []\n",
    "    df = get_album_image_properties(album)\n",
    "    for index, row in df.iterrows():\n",
    "        i+= 1\n",
    "        dict_image = generate_images_dictionary(i,row['title'],row['description'],row['url'],row['thumb_url'])\n",
    "        listofImages.append(dict_image)\n",
    "    \n",
    "    return listofImages"
   ]
  },
  {
   "cell_type": "code",
   "execution_count": 67,
   "metadata": {},
   "outputs": [],
   "source": [
    "def generate_images_dictionary(ID_in,title_of_image,description,url,thumb_url):\n",
    "    \"\"\"\n",
    "    Generates a dictionary based on image properties.\n",
    "    \"\"\"\n",
    "    images_dictionary = {}\n",
    "    now = datetime.datetime.now()\n",
    "    date_time = now.strftime(\"%m/%d/%Y, %H:%M:%S\")\n",
    "    \n",
    "    images_dictionary['id'] = ID_in\n",
    "    images_dictionary['url'] = url\n",
    "    images_dictionary['thumb_url'] = thumb_url\n",
    "    images_dictionary['title'] = title_of_image\n",
    "    images_dictionary['date'] = date_time\n",
    "    images_dictionary['description'] = description\n",
    "    \n",
    "    return images_dictionary"
   ]
  },
  {
   "cell_type": "code",
   "execution_count": 68,
   "metadata": {},
   "outputs": [],
   "source": [
    "def get_album_image_properties(album):\n",
    "    \"\"\"\n",
    "    Returns:\n",
    "    All image properties need to generate display json\n",
    "    based on album input.\n",
    "    \"\"\"\n",
    "    create_get_image_cypher = ((\"MATCH (a:Image)\"\n",
    "                            \" WHERE a.album ='%s' \"\n",
    "                            \"RETURN a.image_title as title,a.image_location as url,\"\n",
    "                            \"a.image_thumbnail_location as thumb_url,\"\n",
    "                            \"a.description as description\")\n",
    "                           % (album))\n",
    "\n",
    "    \n",
    "    df = GRAPH_INIT.run(create_get_image_cypher).to_data_frame()\n",
    "    return df"
   ]
  },
  {
   "cell_type": "code",
   "execution_count": 69,
   "metadata": {},
   "outputs": [
    {
     "data": {
      "text/plain": [
       "'{\"album\": {\"name\": \"test\"}, \"photos\": [{\"id\": 1, \"url\": \"images/werner/test/1_test_Screenshot_from_2019-08-03_18-34-3628122648-8af9-4768-afcc-980fbdc6ee05.png\", \"thumb_url\": \"images/werner/test/1_test__thumbnail_Screenshot_from_2019-08-03_18-34-36911d7f4f-93be-4e92-81f0-fcf4919fcecb.png\", \"title\": \"Screenshotfrom2019-08-0318-34-3628122648-8af9-4768-afcc-980fbdc6ee05.png\", \"date\": \"08/06/2019, 20:11:54\", \"description\": \"test\"}, {\"id\": 2, \"url\": \"images/werner/test/2_test_Screenshot_from_2019-08-03_18-34-33224a83b6-109b-4ccb-a464-38e850fe6cda.png\", \"thumb_url\": \"images/werner/test/2_test__thumbnail_Screenshot_from_2019-08-03_18-34-335967dc07-8de0-4c47-93e8-1b68eabc50b4.png\", \"title\": \"Screenshotfrom2019-08-0318-34-33224a83b6-109b-4ccb-a464-38e850fe6cda.png\", \"date\": \"08/06/2019, 20:11:54\", \"description\": \"test\"}, {\"id\": 3, \"url\": \"images/werner/test/3_test_wood0b3a6328-d0ef-4b21-b72c-cf7692fc6e02.png\", \"thumb_url\": \"images/werner/test/3_test__thumbnail_wood66f1be08-761f-4dc3-95ae-b1ef5d20b9ce.png\", \"title\": \"wood0b3a6328-d0ef-4b21-b72c-cf7692fc6e02.png\", \"date\": \"08/06/2019, 20:11:54\", \"description\": \"test\"}]}'"
      ]
     },
     "execution_count": 69,
     "metadata": {},
     "output_type": "execute_result"
    }
   ],
   "source": [
    "generate_gallery_json('test')"
   ]
  },
  {
   "cell_type": "code",
   "execution_count": 5,
   "metadata": {},
   "outputs": [
    {
     "name": "stdout",
     "output_type": "stream",
     "text": [
      "[{'id': '1', 'url': 'images/werner/lotr/74bffb8ab937853bce9eabd2033456f4bf478ad2-b17c-434b-bb76-1a82aa4a2f46.jpg', 'thumb_url': 'images/werner/lotr/74bffb8ab937853bce9eabd2033456f442022bb6-b8e3-40e5-82c4-161557fdc73c_thumbnail_.jpg', 'title': 'Frodo', 'date': '08/06/2019, 19:33:38', 'description': 'Hobbit'}, {'id': '1', 'url': 'images/werner/lotr/74bffb8ab937853bce9eabd2033456f4bf478ad2-b17c-434b-bb76-1a82aa4a2f46.jpg', 'thumb_url': 'images/werner/lotr/74bffb8ab937853bce9eabd2033456f442022bb6-b8e3-40e5-82c4-161557fdc73c_thumbnail_.jpg', 'title': 'Frodo', 'date': '08/06/2019, 19:33:38', 'description': 'Hobbit'}]\n",
      "{\n",
      "    \"album\": {\n",
      "        \"name\": \"lotr\"\n",
      "    },\n",
      "    \"photos\": [\n",
      "        {\n",
      "            \"id\": \"1\",\n",
      "            \"url\": \"images/werner/lotr/74bffb8ab937853bce9eabd2033456f4bf478ad2-b17c-434b-bb76-1a82aa4a2f46.jpg\",\n",
      "            \"thumb_url\": \"images/werner/lotr/74bffb8ab937853bce9eabd2033456f442022bb6-b8e3-40e5-82c4-161557fdc73c_thumbnail_.jpg\",\n",
      "            \"title\": \"Frodo\",\n",
      "            \"date\": \"08/06/2019, 19:33:38\",\n",
      "            \"description\": \"Hobbit\"\n",
      "        },\n",
      "        {\n",
      "            \"id\": \"1\",\n",
      "            \"url\": \"images/werner/lotr/74bffb8ab937853bce9eabd2033456f4bf478ad2-b17c-434b-bb76-1a82aa4a2f46.jpg\",\n",
      "            \"thumb_url\": \"images/werner/lotr/74bffb8ab937853bce9eabd2033456f442022bb6-b8e3-40e5-82c4-161557fdc73c_thumbnail_.jpg\",\n",
      "            \"title\": \"Frodo\",\n",
      "            \"date\": \"08/06/2019, 19:33:38\",\n",
      "            \"description\": \"Hobbit\"\n",
      "        }\n",
      "    ]\n",
      "}\n"
     ]
    }
   ],
   "source": [
    "\n",
    "print(generate_gallery_json(album,title_of_image,description,url,thumb_url,\"gallery.json\"))"
   ]
  },
  {
   "cell_type": "code",
   "execution_count": null,
   "metadata": {},
   "outputs": [],
   "source": []
  },
  {
   "cell_type": "code",
   "execution_count": 55,
   "metadata": {},
   "outputs": [],
   "source": [
    "\"\"\"\n",
    "Generates node_json_output.json that the dashboard requires \n",
    "to generate the knowledge graph visualization using vis.js.\n",
    "\"\"\"\n",
    "def generate_visjs_KG_json(nodes_json_file_path,nodes_json_loaded_file_path):\n",
    "    \n",
    "    #Load data from node.json\n",
    "    with open(nodes_json_file_path, 'r') as myfile:\n",
    "        data=myfile.read()\n",
    "        nodes_json_loaded = json.loads(data)\n",
    "    myfile.close()\n",
    "    #Cosmetic variables Nodes\n",
    "    scaling_factor = 2\n",
    "    min_size = 6\n",
    "    #\"#009BCE\" \"#0019CE\"\n",
    "    node_colour_engine = \"#0019CE\"\n",
    "    node_colour_url = \"#0019CE\"\n",
    "    node_colour_user = \"#0019CE\"\n",
    "\n",
    "    #Cosmetic variables Relationships\n",
    "    rel_colour_engine = \"#009BCE\"\n",
    "    rel_colour_url = \"#009BCE\"\n",
    "    rel_colour_user = \"#009BCE\"\n",
    "\n",
    "    rel_colour_engine_highlighted = \"#a3dfff\"\n",
    "    rel_colour_url_highlighted = \"#a3dfff\"\n",
    "    rel_colour_user_highlighted = \"#a3dfff\"\n",
    "\n",
    "    #Operational variables\n",
    "    node_unique_id = 1\n",
    "    node_json_output = {}\n",
    "\n",
    "    #Clears out node_json_output.json of content\n",
    "    node_json_output_file = open(nodes_json_loaded_file_path, \"w\")\n",
    "    node_json_output_file.write(\"\")\n",
    "    node_json_output_file.close()\n",
    "\n",
    "    #Opens file and starts of JSON\n",
    "    node_json_output_file = open(nodes_json_loaded_file_path, \"a\")\n",
    "    node_json_output_file.write(\"{\\n\\\"nodes\\\": [\\n\")\n",
    "    node_json_output_file.close()\n",
    "\n",
    "    for node_collection in nodes_json_loaded:\n",
    "        #Populates engine node JSON\n",
    "        node_json_output_file = open(nodes_json_loaded_file_path, \"a\")\n",
    "        node_json_output['id'] = (node_unique_id)\n",
    "        node_json_output['shape'] =  \"circularImage\"\n",
    "        node_json_output['image'] =  \"https://github.com/WernerWildenboer/hostimages/blob/master/Images/gear_cropped_3.png?raw=True\"\n",
    "        node_json_output['label'] =  node_collection['engine']\n",
    "        node_json_output['size'] =  30\n",
    "        node_json_output['title'] =  node_collection['engine']\n",
    "        node_json_output['color'] =  node_colour_engine\n",
    "        json.dump(node_json_output, node_json_output_file, indent=4, sort_keys=True)\n",
    "        node_json_output_file.write(\"\\n,\")\n",
    "\n",
    "        node_unique_id += 1\n",
    "        #Populates url node JSON\n",
    "        node_json_output['id'] = (node_unique_id)\n",
    "        node_json_output['shape'] =  \"circularImage\"\n",
    "        node_json_output['image'] =  \"https://github.com/WernerWildenboer/hostimages/blob/master/Images/link_cropped.png?raw=True\"\n",
    "        node_json_output['label'] =  node_collection['url']['url_name']\n",
    "        node_json_output['size'] =  check_size(min_size,node_collection['url']['total_hits'])*scaling_factor\n",
    "        node_json_output['title'] =  node_collection['url']['url_name']\n",
    "\n",
    "        #Checks if a url is anomalous and changes colour to red if true\n",
    "        if node_collection['url']['anomalous'] == 0:\n",
    "            node_json_output['color'] =  node_colour_url\n",
    "        elif node_collection['url']['anomalous'] == 1:\n",
    "            node_json_output['color'] =  \"#F6110D\"\n",
    "        json.dump(node_json_output, node_json_output_file,indent=4, sort_keys=True)\n",
    "        node_json_output_file.write(\"\\n,\")\n",
    "\n",
    "\n",
    "        node_unique_id += 1\n",
    "        for unique_user in node_collection['users']:\n",
    "            #Populates user node JSON\n",
    "            node_json_output['id'] = (node_unique_id)\n",
    "            node_json_output['shape'] =  \"circularImage\"\n",
    "            node_json_output['image'] =  \"https://github.com/WernerWildenboer/hostimages/blob/master/Images/settings_cropped.png?raw=True\"\n",
    "            label_string = \"Title : %s \\nTotal Hits : %s\" % (unique_user['user_name'],int(unique_user['hits']))\n",
    "            node_json_output['label'] =  label_string \n",
    "            node_json_output['size'] =  check_size(min_size,unique_user['hits'])*scaling_factor\n",
    "            node_json_output['title'] =  unique_user['user_name']\n",
    "            node_json_output['color'] =  node_colour_user\n",
    "            node_unique_id += 1\n",
    "            json.dump(node_json_output, node_json_output_file, indent=4, sort_keys=True)\n",
    "            #Checks if last element in dict to ensure a extra unnecessary \",\" is not added\n",
    "            if node_collection == nodes_json_loaded[-1]:\n",
    "                node_json_output_file.write(\"\\n\")\n",
    "            else:  \n",
    "                node_json_output_file.write(\"\\n,\")\n",
    "\n",
    "        node_json_output_file.close()\n",
    "    node_json_output_file_end = open(nodes_json_loaded_file_path, \"a\")\n",
    "    node_json_output_file_end.write(\"\\n],\")\n",
    "    node_json_output_file.close()\n",
    "\n",
    "    rel_unique_id = 1\n",
    "    rel_json_output = {}\n",
    "\n",
    "    node_json_output_file = open(nodes_json_loaded_file_path, \"a\")\n",
    "    node_json_output_file.write(\"\\\"edges\\\": [\\n\")\n",
    "\n",
    "    for rel_collection in nodes_json_loaded:\n",
    "         #Populates engine/url relationship JSON\n",
    "        node_json_output_file = open(nodes_json_loaded_file_path, \"a\")\n",
    "        rel_json_output['from'] =rel_unique_id\n",
    "        rel_unique_id  += 1\n",
    "        rel_json_output['to'] = rel_unique_id\n",
    "        rel_json_output['width'] = 2\n",
    "        rel_json_output['label'] = \"\"\n",
    "        enriched_json_color = edict({'color':rel_colour_engine, 'highlight':rel_colour_engine_highlighted})\n",
    "        rel_json_output['color'] = enriched_json_color\n",
    "        enriched_json_arrows = edict({'to':{'scaleFactor':'0.5', 'type':\"circle\"}})\n",
    "        rel_json_output['arrows'] = enriched_json_arrows\n",
    "        json.dump(rel_json_output, node_json_output_file, indent=4)\n",
    "        node_json_output_file.write(\",\\n\")\n",
    "\n",
    "        user_counter = rel_unique_id \n",
    "        for unique_user in rel_collection['users']:\n",
    "            #Populates user relationship JSON\n",
    "            user_counter +=1\n",
    "            rel_json_output['from'] = user_counter\n",
    "            rel_json_output['to'] = (rel_unique_id)\n",
    "            rel_json_output['width'] = 2\n",
    "            rel_json_output['label'] = \"\"\n",
    "            enriched_json_color = edict({'color': rel_colour_user , 'highlight':rel_colour_user_highlighted})\n",
    "            rel_json_output['color'] = enriched_json_color\n",
    "            enriched_json_arrows = edict({'to':{'scaleFactor':'0.5', 'type':\"circle\"}})\n",
    "            rel_json_output['arrows'] = enriched_json_arrows\n",
    "\n",
    "            json.dump(rel_json_output, node_json_output_file)\n",
    "            #Checks if last element in dict to ensure a extra unnecessary \",\" is not added\n",
    "            if rel_collection == nodes_json_loaded[-1]:\n",
    "                node_json_output_file.write(\"\\n\")\n",
    "            else:  \n",
    "                node_json_output_file.write(\",\\n\")\n",
    "\n",
    "\n",
    "        node_json_output_file.close()\n",
    "        rel_unique_id  = user_counter +1\n",
    "\n",
    "    node_json_output_file = open(nodes_json_loaded_file_path, \"a\")\n",
    "    #Completes JSON\n",
    "    node_json_output_file.write(\"\\n]\\n}\")\n",
    "    node_json_output_file.close()    \n"
   ]
  },
  {
   "cell_type": "code",
   "execution_count": 174,
   "metadata": {},
   "outputs": [
    {
     "ename": "JSONDecodeError",
     "evalue": "Expecting value: line 818 column 1 (char 24740)",
     "output_type": "error",
     "traceback": [
      "\u001b[0;31m---------------------------------------------------------------------------\u001b[0m",
      "\u001b[0;31mJSONDecodeError\u001b[0m                           Traceback (most recent call last)",
      "\u001b[0;32m<ipython-input-174-f71a1ef1e814>\u001b[0m in \u001b[0;36m<module>\u001b[0;34m\u001b[0m\n\u001b[1;32m      1\u001b[0m \u001b[0;32mwith\u001b[0m \u001b[0mopen\u001b[0m\u001b[0;34m(\u001b[0m\u001b[0;34m'node_json_output.json'\u001b[0m\u001b[0;34m,\u001b[0m \u001b[0;34m'r'\u001b[0m\u001b[0;34m)\u001b[0m \u001b[0;32mas\u001b[0m \u001b[0mloaded_file\u001b[0m\u001b[0;34m:\u001b[0m\u001b[0;34m\u001b[0m\u001b[0;34m\u001b[0m\u001b[0m\n\u001b[1;32m      2\u001b[0m     \u001b[0mdata_reloaded\u001b[0m \u001b[0;34m=\u001b[0m \u001b[0mloaded_file\u001b[0m\u001b[0;34m.\u001b[0m\u001b[0mread\u001b[0m\u001b[0;34m(\u001b[0m\u001b[0;34m)\u001b[0m\u001b[0;34m\u001b[0m\u001b[0;34m\u001b[0m\u001b[0m\n\u001b[0;32m----> 3\u001b[0;31m \u001b[0mnodes_json_reloaded\u001b[0m \u001b[0;34m=\u001b[0m \u001b[0mjson\u001b[0m\u001b[0;34m.\u001b[0m\u001b[0mloads\u001b[0m\u001b[0;34m(\u001b[0m\u001b[0mdata_reloaded\u001b[0m\u001b[0;34m)\u001b[0m\u001b[0;34m\u001b[0m\u001b[0;34m\u001b[0m\u001b[0m\n\u001b[0m\u001b[1;32m      4\u001b[0m \u001b[0mnodes_json_reloaded\u001b[0m\u001b[0;34m\u001b[0m\u001b[0;34m\u001b[0m\u001b[0m\n",
      "\u001b[0;32m/usr/lib/python3.7/json/__init__.py\u001b[0m in \u001b[0;36mloads\u001b[0;34m(s, encoding, cls, object_hook, parse_float, parse_int, parse_constant, object_pairs_hook, **kw)\u001b[0m\n\u001b[1;32m    346\u001b[0m             \u001b[0mparse_int\u001b[0m \u001b[0;32mis\u001b[0m \u001b[0;32mNone\u001b[0m \u001b[0;32mand\u001b[0m \u001b[0mparse_float\u001b[0m \u001b[0;32mis\u001b[0m \u001b[0;32mNone\u001b[0m \u001b[0;32mand\u001b[0m\u001b[0;34m\u001b[0m\u001b[0;34m\u001b[0m\u001b[0m\n\u001b[1;32m    347\u001b[0m             parse_constant is None and object_pairs_hook is None and not kw):\n\u001b[0;32m--> 348\u001b[0;31m         \u001b[0;32mreturn\u001b[0m \u001b[0m_default_decoder\u001b[0m\u001b[0;34m.\u001b[0m\u001b[0mdecode\u001b[0m\u001b[0;34m(\u001b[0m\u001b[0ms\u001b[0m\u001b[0;34m)\u001b[0m\u001b[0;34m\u001b[0m\u001b[0;34m\u001b[0m\u001b[0m\n\u001b[0m\u001b[1;32m    349\u001b[0m     \u001b[0;32mif\u001b[0m \u001b[0mcls\u001b[0m \u001b[0;32mis\u001b[0m \u001b[0;32mNone\u001b[0m\u001b[0;34m:\u001b[0m\u001b[0;34m\u001b[0m\u001b[0;34m\u001b[0m\u001b[0m\n\u001b[1;32m    350\u001b[0m         \u001b[0mcls\u001b[0m \u001b[0;34m=\u001b[0m \u001b[0mJSONDecoder\u001b[0m\u001b[0;34m\u001b[0m\u001b[0;34m\u001b[0m\u001b[0m\n",
      "\u001b[0;32m/usr/lib/python3.7/json/decoder.py\u001b[0m in \u001b[0;36mdecode\u001b[0;34m(self, s, _w)\u001b[0m\n\u001b[1;32m    335\u001b[0m \u001b[0;34m\u001b[0m\u001b[0m\n\u001b[1;32m    336\u001b[0m         \"\"\"\n\u001b[0;32m--> 337\u001b[0;31m         \u001b[0mobj\u001b[0m\u001b[0;34m,\u001b[0m \u001b[0mend\u001b[0m \u001b[0;34m=\u001b[0m \u001b[0mself\u001b[0m\u001b[0;34m.\u001b[0m\u001b[0mraw_decode\u001b[0m\u001b[0;34m(\u001b[0m\u001b[0ms\u001b[0m\u001b[0;34m,\u001b[0m \u001b[0midx\u001b[0m\u001b[0;34m=\u001b[0m\u001b[0m_w\u001b[0m\u001b[0;34m(\u001b[0m\u001b[0ms\u001b[0m\u001b[0;34m,\u001b[0m \u001b[0;36m0\u001b[0m\u001b[0;34m)\u001b[0m\u001b[0;34m.\u001b[0m\u001b[0mend\u001b[0m\u001b[0;34m(\u001b[0m\u001b[0;34m)\u001b[0m\u001b[0;34m)\u001b[0m\u001b[0;34m\u001b[0m\u001b[0;34m\u001b[0m\u001b[0m\n\u001b[0m\u001b[1;32m    338\u001b[0m         \u001b[0mend\u001b[0m \u001b[0;34m=\u001b[0m \u001b[0m_w\u001b[0m\u001b[0;34m(\u001b[0m\u001b[0ms\u001b[0m\u001b[0;34m,\u001b[0m \u001b[0mend\u001b[0m\u001b[0;34m)\u001b[0m\u001b[0;34m.\u001b[0m\u001b[0mend\u001b[0m\u001b[0;34m(\u001b[0m\u001b[0;34m)\u001b[0m\u001b[0;34m\u001b[0m\u001b[0;34m\u001b[0m\u001b[0m\n\u001b[1;32m    339\u001b[0m         \u001b[0;32mif\u001b[0m \u001b[0mend\u001b[0m \u001b[0;34m!=\u001b[0m \u001b[0mlen\u001b[0m\u001b[0;34m(\u001b[0m\u001b[0ms\u001b[0m\u001b[0;34m)\u001b[0m\u001b[0;34m:\u001b[0m\u001b[0;34m\u001b[0m\u001b[0;34m\u001b[0m\u001b[0m\n",
      "\u001b[0;32m/usr/lib/python3.7/json/decoder.py\u001b[0m in \u001b[0;36mraw_decode\u001b[0;34m(self, s, idx)\u001b[0m\n\u001b[1;32m    353\u001b[0m             \u001b[0mobj\u001b[0m\u001b[0;34m,\u001b[0m \u001b[0mend\u001b[0m \u001b[0;34m=\u001b[0m \u001b[0mself\u001b[0m\u001b[0;34m.\u001b[0m\u001b[0mscan_once\u001b[0m\u001b[0;34m(\u001b[0m\u001b[0ms\u001b[0m\u001b[0;34m,\u001b[0m \u001b[0midx\u001b[0m\u001b[0;34m)\u001b[0m\u001b[0;34m\u001b[0m\u001b[0;34m\u001b[0m\u001b[0m\n\u001b[1;32m    354\u001b[0m         \u001b[0;32mexcept\u001b[0m \u001b[0mStopIteration\u001b[0m \u001b[0;32mas\u001b[0m \u001b[0merr\u001b[0m\u001b[0;34m:\u001b[0m\u001b[0;34m\u001b[0m\u001b[0;34m\u001b[0m\u001b[0m\n\u001b[0;32m--> 355\u001b[0;31m             \u001b[0;32mraise\u001b[0m \u001b[0mJSONDecodeError\u001b[0m\u001b[0;34m(\u001b[0m\u001b[0;34m\"Expecting value\"\u001b[0m\u001b[0;34m,\u001b[0m \u001b[0ms\u001b[0m\u001b[0;34m,\u001b[0m \u001b[0merr\u001b[0m\u001b[0;34m.\u001b[0m\u001b[0mvalue\u001b[0m\u001b[0;34m)\u001b[0m \u001b[0;32mfrom\u001b[0m \u001b[0;32mNone\u001b[0m\u001b[0;34m\u001b[0m\u001b[0;34m\u001b[0m\u001b[0m\n\u001b[0m\u001b[1;32m    356\u001b[0m         \u001b[0;32mreturn\u001b[0m \u001b[0mobj\u001b[0m\u001b[0;34m,\u001b[0m \u001b[0mend\u001b[0m\u001b[0;34m\u001b[0m\u001b[0;34m\u001b[0m\u001b[0m\n",
      "\u001b[0;31mJSONDecodeError\u001b[0m: Expecting value: line 818 column 1 (char 24740)"
     ]
    }
   ],
   "source": [
    "with open('node_json_output.json', 'r') as loaded_file:\n",
    "    data_reloaded = loaded_file.read()\n",
    "nodes_json_reloaded = json.loads(data_reloaded)\n",
    "nodes_json_reloaded"
   ]
  },
  {
   "cell_type": "code",
   "execution_count": null,
   "metadata": {},
   "outputs": [],
   "source": []
  },
  {
   "cell_type": "code",
   "execution_count": 9,
   "metadata": {},
   "outputs": [],
   "source": [
    "\"\"\"\n",
    "Checks the size of a node and determines \n",
    "if it is smaller, larger or equal to the \n",
    "minimum value specified and adjusts it \n",
    "accordingly.\n",
    "\n",
    "- node_size > minimum_size : does nothing\n",
    "- node_size = minimum_size : does nothing \n",
    "- node_size < minimum _size : changes node_size to minimum _size\n",
    "\"\"\"\n",
    "def check_size(min_size,size_input):\n",
    "    #Convets size_input to int  \n",
    "    int_size_input = int(size_input)\n",
    "    #Checks if int_size_input is smaller or \n",
    "    #equal to min_size \n",
    "    if int_size_input <= min_size:\n",
    "        return min_size\n",
    "    else:\n",
    "        return int_size_input"
   ]
  },
  {
   "cell_type": "code",
   "execution_count": 14,
   "metadata": {},
   "outputs": [
    {
     "data": {
      "text/plain": [
       "15"
      ]
     },
     "execution_count": 14,
     "metadata": {},
     "output_type": "execute_result"
    }
   ],
   "source": [
    "check_size(11,15)"
   ]
  },
  {
   "cell_type": "code",
   "execution_count": 13,
   "metadata": {},
   "outputs": [],
   "source": [
    "nodes_json_file_path = \"nodes.json\"\n",
    "nodes_json_loaded_file_path = \"node_json_output.json\"\n",
    "generate_visjs_KG_json(nodes_json_file_path,nodes_json_loaded_file_path)"
   ]
  }
 ],
 "metadata": {
  "kernelspec": {
   "display_name": "Python 3",
   "language": "python",
   "name": "python3"
  },
  "language_info": {
   "codemirror_mode": {
    "name": "ipython",
    "version": 3
   },
   "file_extension": ".py",
   "mimetype": "text/x-python",
   "name": "python",
   "nbconvert_exporter": "python",
   "pygments_lexer": "ipython3",
   "version": "3.7.3"
  }
 },
 "nbformat": 4,
 "nbformat_minor": 2
}
